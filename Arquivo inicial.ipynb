{
 "cells": [
  {
   "cell_type": "code",
   "execution_count": null,
   "id": "801af360",
   "metadata": {},
   "outputs": [],
   "source": [
    "# Projeto para mover arquivos para pastas específicas, filtrando por parte do nome do arquivo"
   ]
  },
  {
   "cell_type": "code",
   "execution_count": 8,
   "id": "b814fe7e",
   "metadata": {},
   "outputs": [],
   "source": [
    "import os # Importando biblioteca responsável por manipular arquivos\n",
    "\n",
    "caminho = r\"C:\\Users\\marcu\\OneDrive\\Desenv\\Python\\Automação\\Projeto organizador de arquivos\" # Declarando variável para informar a localização da pasta - Caso seja na mesma pasta do projeto, não precisa\n",
    "\n",
    "lista_arquivos = os.listdir(caminho + \"\\mover\") # Lista os arquivos da pasta e coloca na variável (list) - contatenando a variável de caminho com o nome da pasta com um \"\\\".\n",
    "\n",
    "for arquivo in lista_arquivos: # Faz um for já declarando a variável arquivo que assume cada item da lista\n",
    "    if \".xlsx\" in arquivo:\n",
    "        if \"Jan\" in arquivo:\n",
    "            os.rename(f\"Mover/{arquivo}\", f\"Mover/Jan/{arquivo}\") # Mover o arquivo para a pasta de Janeiro -  o método \"rename\" pode ser usado pra mover, já que o nome completo do arquivo contem o endereço dele. Aqui as \"\\\" estão como \"/\" para evitar ter que colocar o \"r\" no início para evitar que o Python entenda como caractere especial\n",
    "        if \"Fev\" in arquivo:\n",
    "            os.rename(f\"Mover/{arquivo}\", f\"Mover/Fev/{arquivo}\") # Mover o arquivo para a pasta de Fevereiro -  o método \"rename\" pode ser usado pra mover, já que o nome completo do arquivo contem o endereço dele. Aqui as \"\\\" estão como \"/\" para evitar ter que colocar o \"r\" no início para evitar que o Python entenda como caractere especial\n",
    "        if \"Mar\" in arquivo:\n",
    "            os.rename(f\"Mover/{arquivo}\", f\"Mover/Mar/{arquivo}\") # Mover o arquivo para a pasta de Março -  o método \"rename\" pode ser usado pra mover, já que o nome completo do arquivo contem o endereço dele. Aqui as \"\\\" estão como \"/\" para evitar ter que colocar o \"r\" no início para evitar que o Python entenda como caractere especial\n",
    "\n",
    "\n"
   ]
  }
 ],
 "metadata": {
  "kernelspec": {
   "display_name": "Python 3 (ipykernel)",
   "language": "python",
   "name": "python3"
  },
  "language_info": {
   "codemirror_mode": {
    "name": "ipython",
    "version": 3
   },
   "file_extension": ".py",
   "mimetype": "text/x-python",
   "name": "python",
   "nbconvert_exporter": "python",
   "pygments_lexer": "ipython3",
   "version": "3.9.7"
  }
 },
 "nbformat": 4,
 "nbformat_minor": 5
}
